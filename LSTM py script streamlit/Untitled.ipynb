{
 "cells": [
  {
   "cell_type": "code",
   "execution_count": 2,
   "id": "4d4cf864",
   "metadata": {},
   "outputs": [],
   "source": [
    "with open(r'C:\\Github\\Tokyo-Stock-Exchange-_-Price-Prediction-\\requirements.txt', 'r') as file:\n",
    "    lines = file.readlines()\n",
    "\n",
    "cleaned_lines = [line.strip() for line in lines if line.strip() and '==' in line]\n",
    "\n",
    "with open('cleaned_requirements.txt', 'w') as file:\n",
    "    file.write('\\n'.join(cleaned_lines))\n"
   ]
  },
  {
   "cell_type": "code",
   "execution_count": null,
   "id": "322ef0b9",
   "metadata": {},
   "outputs": [],
   "source": []
  }
 ],
 "metadata": {
  "kernelspec": {
   "display_name": "Python 3 (ipykernel)",
   "language": "python",
   "name": "python3"
  },
  "language_info": {
   "codemirror_mode": {
    "name": "ipython",
    "version": 3
   },
   "file_extension": ".py",
   "mimetype": "text/x-python",
   "name": "python",
   "nbconvert_exporter": "python",
   "pygments_lexer": "ipython3",
   "version": "3.11.5"
  }
 },
 "nbformat": 4,
 "nbformat_minor": 5
}
